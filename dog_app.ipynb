{
 "cells": [
  {
   "cell_type": "markdown",
   "metadata": {
    "deletable": true,
    "editable": true
   },
   "source": [
    "# Artificial Intelligence Nanodegree\n",
    "\n",
    "## Convolutional Neural Networks\n",
    "\n",
    "## Project: Write an Algorithm for a Dog Identification App \n",
    "\n",
    "---\n",
    "\n",
    "In this notebook, some template code has already been provided for you, and you will need to implement additional functionality to successfully complete this project. You will not need to modify the included code beyond what is requested. Sections that begin with **'(IMPLEMENTATION)'** in the header indicate that the following block of code will require additional functionality which you must provide. Instructions will be provided for each section, and the specifics of the implementation are marked in the code block with a 'TODO' statement. Please be sure to read the instructions carefully! \n",
    "\n",
    "> **Note**: Once you have completed all of the code implementations, you need to finalize your work by exporting the iPython Notebook as an HTML document. Before exporting the notebook to html, all of the code cells need to have been run so that reviewers can see the final implementation and output. You can then export the notebook by using the menu above and navigating to  \\n\",\n",
    "    \"**File -> Download as -> HTML (.html)**. Include the finished document along with this notebook as your submission.\n",
    "\n",
    "In addition to implementing code, there will be questions that you must answer which relate to the project and your implementation. Each section where you will answer a question is preceded by a **'Question X'** header. Carefully read each question and provide thorough answers in the following text boxes that begin with **'Answer:'**. Your project submission will be evaluated based on your answers to each of the questions and the implementation you provide.\n",
    "\n",
    ">**Note:** Code and Markdown cells can be executed using the **Shift + Enter** keyboard shortcut.  Markdown cells can be edited by double-clicking the cell to enter edit mode.\n",
    "\n",
    "The rubric contains _optional_ \"Stand Out Suggestions\" for enhancing the project beyond the minimum requirements. If you decide to pursue the \"Stand Out Suggestions\", you should include the code in this IPython notebook.\n",
    "\n",
    "\n",
    "\n",
    "---\n",
    "### Why We're Here \n",
    "\n",
    "In this notebook, you will make the first steps towards developing an algorithm that could be used as part of a mobile or web app.  At the end of this project, your code will accept any user-supplied image as input.  If a dog is detected in the image, it will provide an estimate of the dog's breed.  If a human is detected, it will provide an estimate of the dog breed that is most resembling.  The image below displays potential sample output of your finished project (... but we expect that each student's algorithm will behave differently!). \n",
    "\n",
    "![Sample Dog Output](images/sample_dog_output.png)\n",
    "\n",
    "In this real-world setting, you will need to piece together a series of models to perform different tasks; for instance, the algorithm that detects humans in an image will be different from the CNN that infers dog breed.  There are many points of possible failure, and no perfect algorithm exists.  Your imperfect solution will nonetheless create a fun user experience!\n",
    "\n",
    "### The Road Ahead\n",
    "\n",
    "We break the notebook into separate steps.  Feel free to use the links below to navigate the notebook.\n",
    "\n",
    "* [Step 0](#step0): Import Datasets\n",
    "* [Step 1](#step1): Detect Humans\n",
    "* [Step 2](#step2): Detect Dogs\n",
    "* [Step 3](#step3): Create a CNN to Classify Dog Breeds (from Scratch)\n",
    "* [Step 4](#step4): Use a CNN to Classify Dog Breeds (using Transfer Learning)\n",
    "* [Step 5](#step5): Create a CNN to Classify Dog Breeds (using Transfer Learning)\n",
    "* [Step 6](#step6): Write your Algorithm\n",
    "* [Step 7](#step7): Test Your Algorithm\n",
    "\n",
    "---\n",
    "<a id='step0'></a>\n",
    "## Step 0: Import Datasets\n",
    "\n",
    "### Import Dog Dataset\n",
    "\n",
    "In the code cell below, we import a dataset of dog images.  We populate a few variables through the use of the `load_files` function from the scikit-learn library:\n",
    "- `train_files`, `valid_files`, `test_files` - numpy arrays containing file paths to images\n",
    "- `train_targets`, `valid_targets`, `test_targets` - numpy arrays containing onehot-encoded classification labels \n",
    "- `dog_names` - list of string-valued dog breed names for translating labels"
   ]
  },
  {
   "cell_type": "code",
   "execution_count": 33,
   "metadata": {
    "collapsed": false,
    "deletable": true,
    "editable": true
   },
   "outputs": [
    {
     "name": "stdout",
     "output_type": "stream",
     "text": [
      "There are 133 total dog categories.\n",
      "There are 8351 total dog images.\n",
      "\n",
      "There are 6680 training dog images.\n",
      "There are 835 validation dog images.\n",
      "There are 836 test dog images.\n"
     ]
    }
   ],
   "source": [
    "from sklearn.datasets import load_files\n",
    "from keras.utils import np_utils\n",
    "import numpy as np\n",
    "from glob import glob\n",
    "\n",
    "# define function to load train, test, and validation datasets\n",
    "def load_dataset(path):\n",
    "    data = load_files(path)\n",
    "    dog_files = np.array(data['filenames'])\n",
    "    dog_targets = np_utils.to_categorical(np.array(data['target']), 133)\n",
    "    return dog_files, dog_targets\n",
    "\n",
    "# load train, test, and validation datasets\n",
    "train_files, train_targets = load_dataset('/dogimages_ds/train')\n",
    "valid_files, valid_targets = load_dataset('/dogimages_ds/valid')\n",
    "test_files, test_targets = load_dataset('/dogimages_ds/test')\n",
    "\n",
    "# load list of dog names\n",
    "dog_names = [item[20:-1] for item in sorted(glob(\"/dogimages_ds/train/*/\"))]\n",
    "\n",
    "# print statistics about the dataset\n",
    "print('There are %d total dog categories.' % len(dog_names))\n",
    "print('There are %s total dog images.\\n' % len(np.hstack([train_files, valid_files, test_files])))\n",
    "print('There are %d training dog images.' % len(train_files))\n",
    "print('There are %d validation dog images.' % len(valid_files))\n",
    "print('There are %d test dog images.'% len(test_files))"
   ]
  },
  {
   "cell_type": "markdown",
   "metadata": {
    "deletable": true,
    "editable": true
   },
   "source": [
    "### Import Human Dataset\n",
    "\n",
    "In the code cell below, we import a dataset of human images, where the file paths are stored in the numpy array `human_files`."
   ]
  },
  {
   "cell_type": "code",
   "execution_count": 34,
   "metadata": {
    "collapsed": false,
    "deletable": true,
    "editable": true
   },
   "outputs": [
    {
     "name": "stdout",
     "output_type": "stream",
     "text": [
      "There are 13233 total human images.\n",
      "/lfw_ds/Boris_Henry/Boris_Henry_0001.jpg\n"
     ]
    }
   ],
   "source": [
    "import random\n",
    "random.seed(8675309)\n",
    "\n",
    "# load filenames in shuffled human dataset\n",
    "human_files = np.array(glob(\"/lfw_ds/*/*\"))\n",
    "random.shuffle(human_files)\n",
    "\n",
    "# print statistics about the dataset\n",
    "print('There are %d total human images.' % len(human_files))\n",
    "\n",
    "print(human_files[0])"
   ]
  },
  {
   "cell_type": "markdown",
   "metadata": {
    "deletable": true,
    "editable": true
   },
   "source": [
    "---\n",
    "<a id='step1'></a>\n",
    "## Step 1: Detect Humans\n",
    "\n",
    "We use OpenCV's implementation of [Haar feature-based cascade classifiers](http://docs.opencv.org/trunk/d7/d8b/tutorial_py_face_detection.html) to detect human faces in images.  OpenCV provides many pre-trained face detectors, stored as XML files on [github](https://github.com/opencv/opencv/tree/master/data/haarcascades).  We have downloaded one of these detectors and stored it in the `haarcascades` directory.\n",
    "\n",
    "In the next code cell, we demonstrate how to use this detector to find human faces in a sample image."
   ]
  },
  {
   "cell_type": "code",
   "execution_count": 35,
   "metadata": {
    "collapsed": false,
    "deletable": true,
    "editable": true
   },
   "outputs": [
    {
     "name": "stdout",
     "output_type": "stream",
     "text": [
      "Number of faces detected: 1\n"
     ]
    },
    {
     "data": {
      "image/png": "[encoded data removed]",
      "text/plain": [
       "<matplotlib.figure.Figure at 0x7fa48187d9e8>"
      ]
     },
     "metadata": {},
     "output_type": "display_data"
    }
   ],
   "source": [
    "import cv2                \n",
    "import matplotlib.pyplot as plt                        \n",
    "%matplotlib inline                               \n",
    "\n",
    "# extract pre-trained face detector\n",
    "face_cascade = cv2.CascadeClassifier('haarcascades/haarcascade_frontalface_alt.xml')\n",
    "\n",
    "# load color (BGR) image\n",
    "img = cv2.imread(human_files[3])\n",
    "# convert BGR image to grayscale\n",
    "gray = cv2.cvtColor(img, cv2.COLOR_BGR2GRAY)\n",
    "\n",
    "# find faces in image\n",
    "faces = face_cascade.detectMultiScale(gray)\n",
    "\n",
    "# print number of faces detected in the image\n",
    "print('Number of faces detected:', len(faces))\n",
    "\n",
    "# get bounding box for each detected face\n",
    "for (x,y,w,h) in faces:\n",
    "    # add bounding box to color image\n",
    "    cv2.rectangle(img,(x,y),(x+w,y+h),(255,0,0),2)\n",
    "    \n",
    "# convert BGR image to RGB for plotting\n",
    "cv_rgb = cv2.cvtColor(img, cv2.COLOR_BGR2RGB)\n",
    "\n",
    "# display the image, along with bounding box\n",
    "plt.imshow(cv_rgb)\n",
    "plt.show()"
   ]
  },
  {
   "cell_type": "markdown",
   "metadata": {
    "deletable": true,
    "editable": true
   },
   "source": [
    "Before using any of the face detectors, it is standard procedure to convert the images to grayscale.  The `detectMultiScale` function executes the classifier stored in `face_cascade` and takes the grayscale image as a parameter.  \n",
    "\n",
    "In the above code, `faces` is a numpy array of detected faces, where each row corresponds to a detected face.  Each detected face is a 1D array with four entries that specifies the bounding box of the detected face.  The first two entries in the array (extracted in the above code as `x` and `y`) specify the horizontal and vertical positions of the top left corner of the bounding box.  The last two entries in the array (extracted here as `w` and `h`) specify the width and height of the box.\n",
    "\n",
    "### Write a Human Face Detector\n",
    "\n",
    "We can use this procedure to write a function that returns `True` if a human face is detected in an image and `False` otherwise.  This function, aptly named `face_detector`, takes a string-valued file path to an image as input and appears in the code block below."
   ]
  },
  {
   "cell_type": "code",
   "execution_count": 36,
   "metadata": {
    "collapsed": true,
    "deletable": true,
    "editable": true
   },
   "outputs": [],
   "source": [
    "# returns \"True\" if face is detected in image stored at img_path\n",
    "def face_detector(img_path):\n",
    "    img = cv2.imread(img_path)\n",
    "    gray = cv2.cvtColor(img, cv2.COLOR_BGR2GRAY)\n",
    "    faces = face_cascade.detectMultiScale(gray)\n",
    "    return len(faces) > 0"
   ]
  },
  {
   "cell_type": "markdown",
   "metadata": {
    "deletable": true,
    "editable": true
   },
   "source": [
    "### (IMPLEMENTATION) Assess the Human Face Detector\n",
    "\n",
    "__Question 1:__ Use the code cell below to test the performance of the `face_detector` function.  \n",
    "- What percentage of the first 100 images in `human_files` have a detected human face?  \n",
    "- What percentage of the first 100 images in `dog_files` have a detected human face? \n",
    "\n",
    "Ideally, we would like 100% of human images with a detected face and 0% of dog images with a detected face.  You will see that our algorithm falls short of this goal, but still gives acceptable performance.  We extract the file paths for the first 100 images from each of the datasets and store them in the numpy arrays `human_files_short` and `dog_files_short`.\n",
    "\n",
    "__Answer:__ \n",
    "\n",
    "From 100 elements picked from 'Labeled Faces in the Wild' dataset, have been detected faces in the 99% using Haar cascade classifier.  \n",
    "From 100 elemenents of the Dogs dataset, a 11% has been classified as 'human faces' using the same Haar cascade classifier. "
   ]
  },
  {
   "cell_type": "code",
   "execution_count": 37,
   "metadata": {
    "collapsed": false,
    "deletable": true,
    "editable": true
   },
   "outputs": [
    {
     "name": "stdout",
     "output_type": "stream",
     "text": [
      "Human faces in Dogs DS: 11%\n",
      "Human faces in Human DS: 99%\n"
     ]
    }
   ],
   "source": [
    "human_files_short = human_files[:100]\n",
    "dog_files_short = train_files[:100]\n",
    "# Do NOT modify the code above this line.\n",
    "\n",
    "## TODO: Test the performance of the face_detector algorithm \n",
    "## on the images in human_files_short and dog_files_short.\n",
    "\n",
    "human_faces=0\n",
    "for i in range(len(dog_files_short)):\n",
    "    human_faces += face_detector(dog_files_short[i])\n",
    "print(\"Human faces in Dogs DS: {0:.0f}%\".format((human_faces/len(dog_files_short)) * 100)) \n",
    "      \n",
    "\n",
    "human_faces=0\n",
    "for i in range(len(human_files_short)):\n",
    "    human_faces += face_detector(human_files_short[i])\n",
    "print(\"Human faces in Human DS: {0:.0f}%\".format((human_faces/len(human_files_short)) * 100))      \n"
   ]
  },
  {
   "cell_type": "markdown",
   "metadata": {
    "deletable": true,
    "editable": true
   },
   "source": [
    "__Question 2:__ This algorithmic choice necessitates that we communicate to the user that we accept human images only when they provide a clear view of a face (otherwise, we risk having unneccessarily frustrated users!). In your opinion, is this a reasonable expectation to pose on the user? If not, can you think of a way to detect humans in images that does not necessitate an image with a clearly presented face?\n",
    "\n",
    "__Answer:__ It depends on the needs, basically it is related to what kind of application this algorithm will be running on. In general, Haar cascades are good for generic and static objects, and these kind of classifiers are weak detecting variations of that object. In particular, cascade classifier from OpenCV can be as good enough as the pre-trained classifier chosen -we have some frontal face pre-trained detectors-. Probably this algorithmic choice might be good enough for counting the number of convicts when they are forming lines, soldiers, or police kiosks at the airport. Basically, a strict environment with a clear and static pose of the object view. On the other hand, this choice would not be good enough for counting the same, when they are in the training yard moving themselves around. \n",
    "Deep learning provides a more accurate approach for human detection, as they are really good detecting variations of the same object since it is possible to add different filters for every feature detection, but we are not talking about the same computational cost though. \n",
    "\n",
    "\n",
    "We suggest the face detector from OpenCV as a potential way to detect human images in your algorithm, but you are free to explore other approaches, especially approaches that make use of deep learning :).  Please use the code cell below to design and test your own face detection algorithm.  If you decide to pursue this _optional_ task, report performance on each of the datasets."
   ]
  },
  {
   "cell_type": "code",
   "execution_count": 19,
   "metadata": {
    "collapsed": true,
    "deletable": true,
    "editable": true
   },
   "outputs": [],
   "source": [
    "## (Optional) TODO: Report the performance of another  \n",
    "## face detection algorithm on the LFW dataset\n",
    "### Feel free to use as many code cells as needed."
   ]
  },
  {
   "cell_type": "markdown",
   "metadata": {
    "deletable": true,
    "editable": true
   },
   "source": [
    "---\n",
    "<a id='step2'></a>\n",
    "## Step 2: Detect Dogs\n",
    "\n",
    "In this section, we use a pre-trained [ResNet-50](http://ethereon.github.io/netscope/#/gist/db945b393d40bfa26006) model to detect dogs in images.  Our first line of code downloads the ResNet-50 model, along with weights that have been trained on [ImageNet](http://www.image-net.org/), a very large, very popular dataset used for image classification and other vision tasks.  ImageNet contains over 10 million URLs, each linking to an image containing an object from one of [1000 categories](https://gist.github.com/yrevar/942d3a0ac09ec9e5eb3a).  Given an image, this pre-trained ResNet-50 model returns a prediction (derived from the available categories in ImageNet) for the object that is contained in the image."
   ]
  },
  {
   "cell_type": "code",
   "execution_count": 38,
   "metadata": {
    "collapsed": true,
    "deletable": true,
    "editable": true
   },
   "outputs": [],
   "source": [
    "from keras.applications.resnet50 import ResNet50\n",
    "\n",
    "# define ResNet50 model\n",
    "ResNet50_model = ResNet50(weights='imagenet')"
   ]
  },
  {
   "cell_type": "markdown",
   "metadata": {
    "deletable": true,
    "editable": true
   },
   "source": [
    "### Pre-process the Data\n",
    "\n",
    "When using TensorFlow as backend, Keras CNNs require a 4D array (which we'll also refer to as a 4D tensor) as input, with shape\n",
    "\n",
    "$$\n",
    "(\\text{nb_samples}, \\text{rows}, \\text{columns}, \\text{channels}),\n",
    "$$\n",
    "\n",
    "where `nb_samples` corresponds to the total number of images (or samples), and `rows`, `columns`, and `channels` correspond to the number of rows, columns, and channels for each image, respectively.  \n",
    "\n",
    "The `path_to_tensor` function below takes a string-valued file path to a color image as input and returns a 4D tensor suitable for supplying to a Keras CNN.  The function first loads the image and resizes it to a square image that is $224 \\times 224$ pixels.  Next, the image is converted to an array, which is then resized to a 4D tensor.  In this case, since we are working with color images, each image has three channels.  Likewise, since we are processing a single image (or sample), the returned tensor will always have shape\n",
    "\n",
    "$$\n",
    "(1, 224, 224, 3).\n",
    "$$\n",
    "\n",
    "The `paths_to_tensor` function takes a numpy array of string-valued image paths as input and returns a 4D tensor with shape \n",
    "\n",
    "$$\n",
    "(\\text{nb_samples}, 224, 224, 3).\n",
    "$$\n",
    "\n",
    "Here, `nb_samples` is the number of samples, or number of images, in the supplied array of image paths.  It is best to think of `nb_samples` as the number of 3D tensors (where each 3D tensor corresponds to a different image) in your dataset!"
   ]
  },
  {
   "cell_type": "code",
   "execution_count": 39,
   "metadata": {
    "collapsed": true,
    "deletable": true,
    "editable": true
   },
   "outputs": [],
   "source": [
    "from keras.preprocessing import image                  \n",
    "from tqdm import tqdm\n",
    "\n",
    "def path_to_tensor(img_path):\n",
    "    # loads RGB image as PIL.Image.Image type\n",
    "    img = image.load_img(img_path, target_size=(224, 224))\n",
    "    # convert PIL.Image.Image type to 3D tensor with shape (224, 224, 3)\n",
    "    x = image.img_to_array(img)\n",
    "    # convert 3D tensor to 4D tensor with shape (1, 224, 224, 3) and return 4D tensor\n",
    "    return np.expand_dims(x, axis=0)\n",
    "\n",
    "def paths_to_tensor(img_paths):\n",
    "    list_of_tensors = [path_to_tensor(img_path) for img_path in tqdm(img_paths)]\n",
    "    return np.vstack(list_of_tensors)"
   ]
  },
  {
   "cell_type": "markdown",
   "metadata": {
    "deletable": true,
    "editable": true
   },
   "source": [
    "### Making Predictions with ResNet-50\n",
    "\n",
    "Getting the 4D tensor ready for ResNet-50, and for any other pre-trained model in Keras, requires some additional processing.  First, the RGB image is converted to BGR by reordering the channels.  All pre-trained models have the additional normalization step that the mean pixel (expressed in RGB as $[103.939, 116.779, 123.68]$ and calculated from all pixels in all images in ImageNet) must be subtracted from every pixel in each image.  This is implemented in the imported function `preprocess_input`.  If you're curious, you can check the code for `preprocess_input` [here](https://github.com/fchollet/keras/blob/master/keras/applications/imagenet_utils.py).\n",
    "\n",
    "Now that we have a way to format our image for supplying to ResNet-50, we are now ready to use the model to extract the predictions.  This is accomplished with the `predict` method, which returns an array whose $i$-th entry is the model's predicted probability that the image belongs to the $i$-th ImageNet category.  This is implemented in the `ResNet50_predict_labels` function below.\n",
    "\n",
    "By taking the argmax of the predicted probability vector, we obtain an integer corresponding to the model's predicted object class, which we can identify with an object category through the use of this [dictionary](https://gist.github.com/yrevar/942d3a0ac09ec9e5eb3a). "
   ]
  },
  {
   "cell_type": "code",
   "execution_count": 40,
   "metadata": {
    "collapsed": true,
    "deletable": true,
    "editable": true
   },
   "outputs": [],
   "source": [
    "from keras.applications.resnet50 import preprocess_input, decode_predictions\n",
    "\n",
    "def ResNet50_predict_labels(img_path):\n",
    "    # returns prediction vector for image located at img_path\n",
    "    img = preprocess_input(path_to_tensor(img_path))\n",
    "    return np.argmax(ResNet50_model.predict(img))"
   ]
  },
  {
   "cell_type": "markdown",
   "metadata": {
    "deletable": true,
    "editable": true
   },
   "source": [
    "### Write a Dog Detector\n",
    "\n",
    "While looking at the [dictionary](https://gist.github.com/yrevar/942d3a0ac09ec9e5eb3a), you will notice that the categories corresponding to dogs appear in an uninterrupted sequence and correspond to dictionary keys 151-268, inclusive, to include all categories from `'Chihuahua'` to `'Mexican hairless'`.  Thus, in order to check to see if an image is predicted to contain a dog by the pre-trained ResNet-50 model, we need only check if the `ResNet50_predict_labels` function above returns a value between 151 and 268 (inclusive).\n",
    "\n",
    "We use these ideas to complete the `dog_detector` function below, which returns `True` if a dog is detected in an image (and `False` if not)."
   ]
  },
  {
   "cell_type": "code",
   "execution_count": 41,
   "metadata": {
    "collapsed": true,
    "deletable": true,
    "editable": true
   },
   "outputs": [],
   "source": [
    "### returns \"True\" if a dog is detected in the image stored at img_path\n",
    "def dog_detector(img_path):\n",
    "    prediction = ResNet50_predict_labels(img_path)\n",
    "    return ((prediction <= 268) & (prediction >= 151)) "
   ]
  },
  {
   "cell_type": "markdown",
   "metadata": {
    "deletable": true,
    "editable": true
   },
   "source": [
    "### (IMPLEMENTATION) Assess the Dog Detector\n",
    "\n",
    "__Question 3:__ Use the code cell below to test the performance of your `dog_detector` function.  \n",
    "- What percentage of the images in `human_files_short` have a detected dog?  \n",
    "- What percentage of the images in `dog_files_short` have a detected dog?\n",
    "\n",
    "__Answer:__ \n",
    "\n",
    "From 100 elements picked from 'Labeled Faces in the Wild' dataset, a 4% has been classified as a dog, using a pre-trained model ResNet-50. \n",
    "From 100 elemenents of the Dogs dataset, the 100% has been classified as a dog, using the same pre-trained model. "
   ]
  },
  {
   "cell_type": "code",
   "execution_count": 42,
   "metadata": {
    "collapsed": false,
    "deletable": true,
    "editable": true
   },
   "outputs": [
    {
     "name": "stdout",
     "output_type": "stream",
     "text": [
      "Dog faces in Dogs DS: 100%\n",
      "Dog faces in Human DS: 0%\n"
     ]
    }
   ],
   "source": [
    "### TODO: Test the performance of the dog_detector function\n",
    "### on the images in human_files_short and dog_files_short.\n",
    "\n",
    "dogs=0\n",
    "for i in range(len(dog_files_short)):\n",
    "    dogs += dog_detector(dog_files_short[i])\n",
    "print(\"Dog faces in Dogs DS: {0:.0f}%\".format((dogs/len(dog_files_short)) * 100)) # 100% of dogs are detected \n",
    "      \n",
    "\n",
    "dogs=0\n",
    "for i in range(len(human_files_short)):\n",
    "    dogs += dog_detector(human_files_short[i])\n",
    "print(\"Dog faces in Human DS: {0:.0f}%\".format((dogs/len(human_files_short)) * 100)) "
   ]
  },
  {
   "cell_type": "markdown",
   "metadata": {
    "deletable": true,
    "editable": true
   },
   "source": [
    "---\n",
    "<a id='step3'></a>\n",
    "## Step 3: Create a CNN to Classify Dog Breeds (from Scratch)\n",
    "\n",
    "Now that we have functions for detecting humans and dogs in images, we need a way to predict breed from images.  In this step, you will create a CNN that classifies dog breeds.  You must create your CNN _from scratch_ (so, you can't use transfer learning _yet_!), and you must attain a test accuracy of at least 1%.  In Step 5 of this notebook, you will have the opportunity to use transfer learning to create a CNN that attains greatly improved accuracy.\n",
    "\n",
    "Be careful with adding too many trainable layers!  More parameters means longer training, which means you are more likely to need a GPU to accelerate the training process.  Thankfully, Keras provides a handy estimate of the time that each epoch is likely to take; you can extrapolate this estimate to figure out how long it will take for your algorithm to train. \n",
    "\n",
    "We mention that the task of assigning breed to dogs from images is considered exceptionally challenging.  To see why, consider that *even a human* would have great difficulty in distinguishing between a Brittany and a Welsh Springer Spaniel.  \n",
    "\n",
    "Brittany | Welsh Springer Spaniel\n",
    "- | - \n",
    "<img src=\"images/Brittany_02625.jpg\" width=\"100\"> | <img src=\"images/Welsh_springer_spaniel_08203.jpg\" width=\"200\">\n",
    "\n",
    "It is not difficult to find other dog breed pairs with minimal inter-class variation (for instance, Curly-Coated Retrievers and American Water Spaniels).  \n",
    "\n",
    "Curly-Coated Retriever | American Water Spaniel\n",
    "- | -\n",
    "<img src=\"images/Curly-coated_retriever_03896.jpg\" width=\"200\"> | <img src=\"images/American_water_spaniel_00648.jpg\" width=\"200\">\n",
    "\n",
    "\n",
    "Likewise, recall that labradors come in yellow, chocolate, and black.  Your vision-based algorithm will have to conquer this high intra-class variation to determine how to classify all of these different shades as the same breed.  \n",
    "\n",
    "Yellow Labrador | Chocolate Labrador | Black Labrador\n",
    "- | -\n",
    "<img src=\"images/Labrador_retriever_06457.jpg\" width=\"150\"> | <img src=\"images/Labrador_retriever_06455.jpg\" width=\"240\"> | <img src=\"images/Labrador_retriever_06449.jpg\" width=\"220\">\n",
    "\n",
    "We also mention that random chance presents an exceptionally low bar: setting aside the fact that the classes are slightly imabalanced, a random guess will provide a correct answer roughly 1 in 133 times, which corresponds to an accuracy of less than 1%.  \n",
    "\n",
    "Remember that the practice is far ahead of the theory in deep learning.  Experiment with many different architectures, and trust your intuition.  And, of course, have fun! \n",
    "\n",
    "### Pre-process the Data\n",
    "\n",
    "We rescale the images by dividing every pixel in every image by 255."
   ]
  },
  {
   "cell_type": "code",
   "execution_count": 25,
   "metadata": {
    "collapsed": false,
    "deletable": true,
    "editable": true
   },
   "outputs": [
    {
     "name": "stderr",
     "output_type": "stream",
     "text": [
      "100%|██████████| 6680/6680 [00:54<00:00, 121.90it/s]\n",
      "100%|██████████| 835/835 [00:06<00:00, 156.11it/s]\n",
      "100%|██████████| 836/836 [00:06<00:00, 135.65it/s]\n"
     ]
    }
   ],
   "source": [
    "from PIL import ImageFile                            \n",
    "ImageFile.LOAD_TRUNCATED_IMAGES = True                 \n",
    "\n",
    "# pre-process the data for Keras\n",
    "train_tensors = paths_to_tensor(train_files).astype('float32')/255\n",
    "valid_tensors = paths_to_tensor(valid_files).astype('float32')/255\n",
    "test_tensors = paths_to_tensor(test_files).astype('float32')/255"
   ]
  },
  {
   "cell_type": "markdown",
   "metadata": {
    "deletable": true,
    "editable": true
   },
   "source": [
    "### (IMPLEMENTATION) Model Architecture\n",
    "\n",
    "Create a CNN to classify dog breed.  At the end of your code cell block, summarize the layers of your model by executing the line:\n",
    "    \n",
    "        model.summary()\n",
    "\n",
    "We have imported some Python modules to get you started, but feel free to import as many modules as you need.  If you end up getting stuck, here's a hint that specifies a model that trains relatively fast on CPU and attains >1% test accuracy in 5 epochs:\n",
    "\n",
    "![Sample CNN](images/sample_cnn.png)\n",
    "           \n",
    "__Question 4:__ Outline the steps you took to get to your final CNN architecture and your reasoning at each step.  If you chose to use the hinted architecture above, describe why you think that CNN architecture should work well for the image classification task.\n",
    "\n",
    "__Answer:__ \n",
    "\n",
    "The model hinted has been used as a starter. The final chose model, has two dense layers in order to have more trainable parameters, thus input shapes are slightly different and the convolution has been expanded little bit more. \n",
    "\n",
    "The padding parameter has not been changed, as it is supposed the more interesting information is going to be located at the center of the image. If we were working with landscapes, traffic images or medical images, the same padding would be used. Max Pooling layers have been added from the beginning to prevent overfitting, and for some intuition it has been preferred to use the dropoputs when more filters were in place. A more aggressive dropout, has not been helpful. In order to reduce dimensionality, it has been chosen the GlobalAveragePooling() layer,  since the results were fairly good compared to Flatten() + Reshape() layers and it is easier to implement and to control dimensionality. \n",
    "\n",
    "Weights and bias have been initalized following some suggestion of other students in the forum. BatchNormalization() layer has been used at the end of the linear layers and before the softmax. There are some discussions about where to apply BatchNormalization. Use it after every 'relu' has not been helpful, however before the 'softmax', the model converges a bit faster using the same architecture and hyperparameters [1] (https://www.reddit.com/r/MachineLearning/comments/67gonq/d_batch_normalization_before_or_after_relu/). \n",
    "\n",
    "Finally we use softmax since we are facing a multiclass classification problem. Additionally it has been decided to tune separately the learning rate instead of using a default value. Multiple values have been tried. The model has been optimized without using Data Augmentation, giving good results in only 10 epochs -it took 15 minutes in a Standard GPU, Tesla K80, 12 GB Memory, 61 GB RAM, 100 GB SSD in a [Preemptible FloydHub instance](https://docs.floydhub.com/faqs/plans/#powerups)- and keeping a good speed of the loss decrease, the number of epochs was increased to 25, reaching a 2% more of accuracy. Finally it is not worthy with this model to go over 25 epochs as the computation cost vs the accuracy got, it is not really worthy. Once the model was validated relatively quickly, Data augmentation have been demonstrated as an absolute performance enhancer. More samples are absolutely helpful. Since we work with RGB images, a different kind of transformations have been used but keeping the three color channel: distortion, flip, rotation, zoom, etc. It took 40 minutes to train and validate the created samples, increasing the accuracy in a factor of 1.6, in the same FloydHub instance -since it is Preemptible instance, some time variations might be experienced-. "
   ]
  },
  {
   "cell_type": "code",
   "execution_count": 159,
   "metadata": {
    "collapsed": false,
    "deletable": true,
    "editable": true
   },
   "outputs": [
    {
     "name": "stdout",
     "output_type": "stream",
     "text": [
      "_________________________________________________________________\n",
      "Layer (type)                 Output Shape              Param #   \n",
      "=================================================================\n",
      "conv2d_186 (Conv2D)          (None, 223, 223, 16)      208       \n",
      "_________________________________________________________________\n",
      "max_pooling2d_104 (MaxPoolin (None, 111, 111, 16)      0         \n",
      "_________________________________________________________________\n",
      "conv2d_187 (Conv2D)          (None, 110, 110, 64)      4160      \n",
      "_________________________________________________________________\n",
      "max_pooling2d_105 (MaxPoolin (None, 55, 55, 64)        0         \n",
      "_________________________________________________________________\n",
      "conv2d_188 (Conv2D)          (None, 54, 54, 128)       32896     \n",
      "_________________________________________________________________\n",
      "max_pooling2d_106 (MaxPoolin (None, 27, 27, 128)       0         \n",
      "_________________________________________________________________\n",
      "dropout_175 (Dropout)        (None, 27, 27, 128)       0         \n",
      "_________________________________________________________________\n",
      "conv2d_189 (Conv2D)          (None, 26, 26, 256)       131328    \n",
      "_________________________________________________________________\n",
      "max_pooling2d_107 (MaxPoolin (None, 13, 13, 256)       0         \n",
      "_________________________________________________________________\n",
      "dropout_176 (Dropout)        (None, 13, 13, 256)       0         \n",
      "_________________________________________________________________\n",
      "global_average_pooling2d_41  (None, 256)               0         \n",
      "_________________________________________________________________\n",
      "dense_84 (Dense)             (None, 256)               65792     \n",
      "_________________________________________________________________\n",
      "batch_normalization_32 (Batc (None, 256)               1024      \n",
      "_________________________________________________________________\n",
      "dropout_177 (Dropout)        (None, 256)               0         \n",
      "_________________________________________________________________\n",
      "dense_85 (Dense)             (None, 133)               34181     \n",
      "=================================================================\n",
      "Total params: 269,589\n",
      "Trainable params: 269,077\n",
      "Non-trainable params: 512\n",
      "_________________________________________________________________\n"
     ]
    }
   ],
   "source": [
    "from keras.layers import Conv2D, MaxPooling2D, GlobalAveragePooling2D\n",
    "from keras.layers import Dropout, Flatten, Dense\n",
    "from keras.models import Sequential\n",
    "from keras import optimizers # custom lr\n",
    "from keras import initializers # weights init \n",
    "from keras.layers.normalization import BatchNormalization # for Batch Normalization https://arxiv.org/abs/1502.03167\n",
    "\n",
    "model = Sequential()\n",
    "\n",
    "### TODO: Define your architecture.\n",
    "\n",
    "model.add(Conv2D(filters=16, kernel_size=2, padding='valid', input_shape=(224, 224, 3), activation='relu'))\n",
    "model.add(MaxPooling2D(pool_size=2))\n",
    "\n",
    "model.add(Conv2D(filters=64, kernel_size=2, padding='valid', activation='relu'))\n",
    "model.add(MaxPooling2D(pool_size=2))\n",
    "\n",
    "model.add(Conv2D(filters=128, kernel_size=2, padding='valid', activation='relu'))\n",
    "model.add(MaxPooling2D(pool_size=2))\n",
    "model.add(Dropout(0.1))\n",
    "\n",
    "model.add(Conv2D(filters=256, kernel_size=2, padding='valid',  activation='relu'))\n",
    "model.add(MaxPooling2D(pool_size=2))\n",
    "model.add(Dropout(0.1))\n",
    "\n",
    "model.add(GlobalAveragePooling2D())  \n",
    "\n",
    "model.add(Dense(256, kernel_initializer='he_normal', bias_initializer='zeros', activation='relu'))\n",
    "model.add(BatchNormalization())\n",
    "model.add(Dropout(0.2))\n",
    "model.add(Dense(133, activation='softmax')) # There are 133 total dog categories.\n",
    "\n",
    "model.summary()"
   ]
  },
  {
   "cell_type": "markdown",
   "metadata": {
    "deletable": true,
    "editable": true
   },
   "source": [
    "### Compile the Model"
   ]
  },
  {
   "cell_type": "code",
   "execution_count": 160,
   "metadata": {
    "collapsed": true,
    "deletable": true,
    "editable": true
   },
   "outputs": [],
   "source": [
    "rmsprop = optimizers.RMSprop(lr=0.0018) # lower values of rho decreases the speed of the training\n",
    "model.compile(optimizer= rmsprop, loss='categorical_crossentropy', metrics=['accuracy'])"
   ]
  },
  {
   "cell_type": "markdown",
   "metadata": {
    "deletable": true,
    "editable": true
   },
   "source": [
    "### (IMPLEMENTATION) Train the Model\n",
    "\n",
    "Train your model in the code cell below.  Use model checkpointing to save the model that attains the best validation loss.\n",
    "\n",
    "You are welcome to [augment the training data](https://blog.keras.io/building-powerful-image-classification-models-using-very-little-data.html), but this is not a requirement. "
   ]
  },
  {
   "cell_type": "code",
   "execution_count": 166,
   "metadata": {
    "collapsed": true,
    "deletable": true,
    "editable": true
   },
   "outputs": [],
   "source": [
    "from keras.callbacks import ModelCheckpoint \n",
    "from keras.preprocessing.image import ImageDataGenerator"
   ]
  },
  {
   "cell_type": "code",
   "execution_count": 167,
   "metadata": {
    "collapsed": false,
    "deletable": true,
    "editable": true
   },
   "outputs": [
    {
     "name": "stdout",
     "output_type": "stream",
     "text": [
      "Found 6680 images belonging to 133 classes.\n",
      "Found 835 images belonging to 133 classes.\n",
      "Epoch 1/10\n",
      " 99/100 [============================>.] - ETA: 1s - loss: 2.5832 - acc: 0.3365Epoch 00000: val_loss improved from inf to 3.07021, saving model to saved_models/weights.best.from_scratch.data.augmented.hdf5\n",
      "100/100 [==============================] - 225s - loss: 2.5826 - acc: 0.3364 - val_loss: 3.0702 - val_acc: 0.2388\n",
      "Epoch 2/10\n",
      " 99/100 [============================>.] - ETA: 1s - loss: 2.5660 - acc: 0.3330Epoch 00001: val_loss improved from 3.07021 to 2.99597, saving model to saved_models/weights.best.from_scratch.data.augmented.hdf5\n",
      "100/100 [==============================] - 206s - loss: 2.5642 - acc: 0.3334 - val_loss: 2.9960 - val_acc: 0.2626\n",
      "Epoch 3/10\n",
      " 99/100 [============================>.] - ETA: 1s - loss: 2.4890 - acc: 0.3504Epoch 00002: val_loss did not improve\n",
      "100/100 [==============================] - 209s - loss: 2.4881 - acc: 0.3508 - val_loss: 3.1856 - val_acc: 0.2468\n",
      "Epoch 4/10\n",
      " 99/100 [============================>.] - ETA: 1s - loss: 2.4747 - acc: 0.3528Epoch 00003: val_loss did not improve\n",
      "100/100 [==============================] - 207s - loss: 2.4775 - acc: 0.3527 - val_loss: 3.7899 - val_acc: 0.1752\n",
      "Epoch 5/10\n",
      " 99/100 [============================>.] - ETA: 1s - loss: 2.4462 - acc: 0.3530Epoch 00004: val_loss improved from 2.99597 to 2.96672, saving model to saved_models/weights.best.from_scratch.data.augmented.hdf5\n",
      "100/100 [==============================] - 207s - loss: 2.4455 - acc: 0.3523 - val_loss: 2.9667 - val_acc: 0.2634\n",
      "Epoch 6/10\n",
      " 99/100 [============================>.] - ETA: 1s - loss: 2.4174 - acc: 0.3603Epoch 00005: val_loss did not improve\n",
      "100/100 [==============================] - 207s - loss: 2.4159 - acc: 0.3600 - val_loss: 3.0304 - val_acc: 0.2610\n",
      "Epoch 7/10\n",
      " 99/100 [============================>.] - ETA: 1s - loss: 2.3708 - acc: 0.3731Epoch 00006: val_loss did not improve\n",
      "100/100 [==============================] - 212s - loss: 2.3721 - acc: 0.3733 - val_loss: 3.4846 - val_acc: 0.2107\n",
      "Epoch 8/10\n",
      " 99/100 [============================>.] - ETA: 1s - loss: 2.3537 - acc: 0.3726Epoch 00007: val_loss did not improve\n",
      "100/100 [==============================] - 207s - loss: 2.3539 - acc: 0.3720 - val_loss: 3.1374 - val_acc: 0.2686\n",
      "Epoch 9/10\n",
      " 99/100 [============================>.] - ETA: 1s - loss: 2.3086 - acc: 0.3876Epoch 00008: val_loss did not improve\n",
      "100/100 [==============================] - 206s - loss: 2.3068 - acc: 0.3880 - val_loss: 3.1030 - val_acc: 0.2757\n",
      "Epoch 10/10\n",
      " 99/100 [============================>.] - ETA: 1s - loss: 2.2881 - acc: 0.3935Epoch 00009: val_loss did not improve\n",
      "100/100 [==============================] - 207s - loss: 2.2881 - acc: 0.3933 - val_loss: 3.1912 - val_acc: 0.2594\n"
     ]
    }
   ],
   "source": [
    "### TODO: specify the number of epochs that you would like to use to train the model.\n",
    "\n",
    "epochs = 10\n",
    "batch_size = 100\n",
    "img_width, img_height = 224, 224\n",
    "\n",
    "####### DATA AUGMENTATION #######################################\n",
    "\n",
    "# augmentation configuration for training \n",
    "train_datagen = ImageDataGenerator(\n",
    "    rescale=1. / 255,\n",
    "    width_shift_range = .1,  # horizontal shifting\n",
    "    height_shift_range = .1, # vertical shifting\n",
    "    shear_range=0.2,\n",
    "    zoom_range=0.2,   \n",
    "    horizontal_flip=True)\n",
    "\n",
    "# augmentation configuration for testing:\n",
    "test_datagen = ImageDataGenerator(\n",
    "    width_shift_range = .1, \n",
    "    height_shift_range = .1, \n",
    "    rescale=1. / 255)\n",
    "\n",
    "train_generator = train_datagen.flow_from_directory(\n",
    "    '/dogimages_ds/train',\n",
    "    target_size=(img_width, img_height),    \n",
    "    batch_size=batch_size,\n",
    "    class_mode='categorical')\n",
    "\n",
    "validation_generator = test_datagen.flow_from_directory(\n",
    "    '/dogimages_ds/valid',\n",
    "    target_size=(img_width, img_height),   \n",
    "    batch_size=batch_size,\n",
    "    class_mode='categorical')\n",
    "\n",
    "checkpointer_datagen = ModelCheckpoint(filepath='saved_models/weights.best.from_scratch.data.augmented.hdf5', \n",
    "                               verbose=1, save_best_only=True)\n",
    "\n",
    "model.fit_generator(train_generator, \n",
    "                    steps_per_epoch=10000 // batch_size,\n",
    "                    epochs=epochs,\n",
    "                    validation_data=validation_generator,\n",
    "                    validation_steps=4000 // batch_size, \n",
    "                    callbacks=[checkpointer_datagen], verbose=1)"
   ]
  },
  {
   "cell_type": "code",
   "execution_count": 161,
   "metadata": {
    "collapsed": false,
    "deletable": true,
    "editable": true
   },
   "outputs": [
    {
     "name": "stdout",
     "output_type": "stream",
     "text": [
      "Train on 6680 samples, validate on 835 samples\n",
      "Epoch 1/25\n",
      "6660/6680 [============================>.] - ETA: 0s - loss: 4.8408 - acc: 0.0155Epoch 00000: val_loss improved from inf to 4.84019, saving model to saved_models/weights.best.from_scratch.hdf5\n",
      "6680/6680 [==============================] - 37s - loss: 4.8400 - acc: 0.0154 - val_loss: 4.8402 - val_acc: 0.0120\n",
      "Epoch 2/25\n",
      "6660/6680 [============================>.] - ETA: 0s - loss: 4.7281 - acc: 0.0287Epoch 00001: val_loss did not improve\n",
      "6680/6680 [==============================] - 31s - loss: 4.7281 - acc: 0.0286 - val_loss: 4.9161 - val_acc: 0.0263\n",
      "Epoch 3/25\n",
      "6660/6680 [============================>.] - ETA: 0s - loss: 4.6428 - acc: 0.0342Epoch 00002: val_loss did not improve\n",
      "6680/6680 [==============================] - 31s - loss: 4.6426 - acc: 0.0343 - val_loss: 4.9087 - val_acc: 0.0240\n",
      "Epoch 4/25\n",
      "6660/6680 [============================>.] - ETA: 0s - loss: 4.5710 - acc: 0.0443Epoch 00003: val_loss did not improve\n",
      "6680/6680 [==============================] - 31s - loss: 4.5714 - acc: 0.0443 - val_loss: 4.9098 - val_acc: 0.0204\n",
      "Epoch 5/25\n",
      "6660/6680 [============================>.] - ETA: 0s - loss: 4.5064 - acc: 0.0517Epoch 00004: val_loss did not improve\n",
      "6680/6680 [==============================] - 32s - loss: 4.5064 - acc: 0.0515 - val_loss: 5.4020 - val_acc: 0.0216\n",
      "Epoch 6/25\n",
      "6660/6680 [============================>.] - ETA: 0s - loss: 4.4234 - acc: 0.0550Epoch 00005: val_loss did not improve\n",
      "6680/6680 [==============================] - 32s - loss: 4.4233 - acc: 0.0549 - val_loss: 5.0925 - val_acc: 0.0263\n",
      "Epoch 7/25\n",
      "6660/6680 [============================>.] - ETA: 0s - loss: 4.3890 - acc: 0.0646Epoch 00006: val_loss improved from 4.84019 to 4.43360, saving model to saved_models/weights.best.from_scratch.hdf5\n",
      "6680/6680 [==============================] - 32s - loss: 4.3876 - acc: 0.0653 - val_loss: 4.4336 - val_acc: 0.0455\n",
      "Epoch 8/25\n",
      "6660/6680 [============================>.] - ETA: 0s - loss: 4.3353 - acc: 0.0653Epoch 00007: val_loss improved from 4.43360 to 4.40387, saving model to saved_models/weights.best.from_scratch.hdf5\n",
      "6680/6680 [==============================] - 32s - loss: 4.3348 - acc: 0.0656 - val_loss: 4.4039 - val_acc: 0.0707\n",
      "Epoch 9/25\n",
      "6660/6680 [============================>.] - ETA: 0s - loss: 4.2840 - acc: 0.0791Epoch 00008: val_loss did not improve\n",
      "6680/6680 [==============================] - 32s - loss: 4.2842 - acc: 0.0789 - val_loss: 4.4256 - val_acc: 0.0587\n",
      "Epoch 10/25\n",
      "6660/6680 [============================>.] - ETA: 0s - loss: 4.2177 - acc: 0.0808Epoch 00009: val_loss did not improve\n",
      "6680/6680 [==============================] - 31s - loss: 4.2181 - acc: 0.0807 - val_loss: 4.4544 - val_acc: 0.0515\n",
      "Epoch 11/25\n",
      "6660/6680 [============================>.] - ETA: 0s - loss: 4.1518 - acc: 0.0967Epoch 00010: val_loss did not improve\n",
      "6680/6680 [==============================] - 32s - loss: 4.1519 - acc: 0.0966 - val_loss: 4.4607 - val_acc: 0.0647\n",
      "Epoch 12/25\n",
      "6660/6680 [============================>.] - ETA: 0s - loss: 4.1058 - acc: 0.0980Epoch 00011: val_loss improved from 4.40387 to 4.34296, saving model to saved_models/weights.best.from_scratch.hdf5\n",
      "6680/6680 [==============================] - 32s - loss: 4.1060 - acc: 0.0981 - val_loss: 4.3430 - val_acc: 0.0802\n",
      "Epoch 13/25\n",
      "6660/6680 [============================>.] - ETA: 0s - loss: 4.0221 - acc: 0.1107Epoch 00012: val_loss improved from 4.34296 to 4.12291, saving model to saved_models/weights.best.from_scratch.hdf5\n",
      "6680/6680 [==============================] - 32s - loss: 4.0223 - acc: 0.1108 - val_loss: 4.1229 - val_acc: 0.0910\n",
      "Epoch 14/25\n",
      "6660/6680 [============================>.] - ETA: 0s - loss: 3.9779 - acc: 0.1171Epoch 00013: val_loss did not improve\n",
      "6680/6680 [==============================] - 32s - loss: 3.9780 - acc: 0.1171 - val_loss: 4.1407 - val_acc: 0.0886\n",
      "Epoch 15/25\n",
      "6660/6680 [============================>.] - ETA: 0s - loss: 3.9430 - acc: 0.1206Epoch 00014: val_loss did not improve\n",
      "6680/6680 [==============================] - 32s - loss: 3.9444 - acc: 0.1205 - val_loss: 4.6538 - val_acc: 0.0838\n",
      "Epoch 16/25\n",
      "6660/6680 [============================>.] - ETA: 0s - loss: 3.8916 - acc: 0.1326Epoch 00015: val_loss did not improve\n",
      "6680/6680 [==============================] - 32s - loss: 3.8920 - acc: 0.1325 - val_loss: 4.2199 - val_acc: 0.0958\n",
      "Epoch 17/25\n",
      "6660/6680 [============================>.] - ETA: 0s - loss: 3.8313 - acc: 0.1422Epoch 00016: val_loss improved from 4.12291 to 4.09997, saving model to saved_models/weights.best.from_scratch.hdf5\n",
      "6680/6680 [==============================] - 32s - loss: 3.8300 - acc: 0.1424 - val_loss: 4.1000 - val_acc: 0.0922\n",
      "Epoch 18/25\n",
      "6660/6680 [============================>.] - ETA: 0s - loss: 3.7583 - acc: 0.1532Epoch 00017: val_loss did not improve\n",
      "6680/6680 [==============================] - 32s - loss: 3.7583 - acc: 0.1531 - val_loss: 4.2010 - val_acc: 0.1006\n",
      "Epoch 19/25\n",
      "6660/6680 [============================>.] - ETA: 0s - loss: 3.7311 - acc: 0.1523Epoch 00018: val_loss did not improve\n",
      "6680/6680 [==============================] - 32s - loss: 3.7305 - acc: 0.1524 - val_loss: 4.2575 - val_acc: 0.0814\n",
      "Epoch 20/25\n",
      "6660/6680 [============================>.] - ETA: 0s - loss: 3.6851 - acc: 0.1580Epoch 00019: val_loss improved from 4.09997 to 3.99248, saving model to saved_models/weights.best.from_scratch.hdf5\n",
      "6680/6680 [==============================] - 32s - loss: 3.6855 - acc: 0.1584 - val_loss: 3.9925 - val_acc: 0.1114\n",
      "Epoch 21/25\n",
      "6660/6680 [============================>.] - ETA: 0s - loss: 3.6282 - acc: 0.1701Epoch 00020: val_loss did not improve\n",
      "6680/6680 [==============================] - 32s - loss: 3.6295 - acc: 0.1696 - val_loss: 4.0521 - val_acc: 0.1078\n",
      "Epoch 22/25\n",
      "6660/6680 [============================>.] - ETA: 0s - loss: 3.5801 - acc: 0.1719Epoch 00021: val_loss did not improve\n",
      "6680/6680 [==============================] - 32s - loss: 3.5798 - acc: 0.1720 - val_loss: 4.0758 - val_acc: 0.1150\n",
      "Epoch 23/25\n",
      "6660/6680 [============================>.] - ETA: 0s - loss: 3.5344 - acc: 0.1881Epoch 00022: val_loss did not improve\n",
      "6680/6680 [==============================] - 32s - loss: 3.5343 - acc: 0.1882 - val_loss: 4.8361 - val_acc: 0.0611\n",
      "Epoch 24/25\n",
      "6660/6680 [============================>.] - ETA: 0s - loss: 3.4972 - acc: 0.1932Epoch 00023: val_loss improved from 3.99248 to 3.68698, saving model to saved_models/weights.best.from_scratch.hdf5\n",
      "6680/6680 [==============================] - 32s - loss: 3.4952 - acc: 0.1939 - val_loss: 3.6870 - val_acc: 0.1509\n",
      "Epoch 25/25\n",
      "6660/6680 [============================>.] - ETA: 0s - loss: 3.4620 - acc: 0.1913Epoch 00024: val_loss did not improve\n",
      "6680/6680 [==============================] - 32s - loss: 3.4630 - acc: 0.1915 - val_loss: 3.7466 - val_acc: 0.1401\n"
     ]
    },
    {
     "data": {
      "text/plain": [
       "<keras.callbacks.History at 0x7fa474c3eda0>"
      ]
     },
     "execution_count": 161,
     "metadata": {},
     "output_type": "execute_result"
    }
   ],
   "source": [
    "epochs = 25\n",
    "\n",
    "### Do NOT modify the code below this line.\n",
    "\n",
    "checkpointer = ModelCheckpoint(filepath='saved_models/weights.best.from_scratch.hdf5', \n",
    "                               verbose=1, save_best_only=True)\n",
    "\n",
    "model.fit(train_tensors, train_targets, \n",
    "          validation_data=(valid_tensors, valid_targets),\n",
    "          epochs=epochs, batch_size=20, callbacks=[checkpointer], verbose=1)"
   ]
  },
  {
   "cell_type": "markdown",
   "metadata": {
    "deletable": true,
    "editable": true
   },
   "source": [
    "### Load the Model with the Best Validation Loss"
   ]
  },
  {
   "cell_type": "code",
   "execution_count": 170,
   "metadata": {
    "collapsed": true,
    "deletable": true,
    "editable": true
   },
   "outputs": [],
   "source": [
    "# model.load_weights('saved_models/weights.best.from_scratch.hdf5') \n",
    "model.load_weights('saved_models/weights.best.from_scratch.data.augmented.hdf5')"
   ]
  },
  {
   "cell_type": "markdown",
   "metadata": {
    "deletable": true,
    "editable": true
   },
   "source": [
    "### Test the Model\n",
    "\n",
    "Try out your model on the test dataset of dog images.  Ensure that your test accuracy is greater than 1%."
   ]
  },
  {
   "cell_type": "code",
   "execution_count": 171,
   "metadata": {
    "collapsed": false,
    "deletable": true,
    "editable": true
   },
   "outputs": [
    {
     "name": "stdout",
     "output_type": "stream",
     "text": [
      "Test accuracy: 25.2392%\n"
     ]
    }
   ],
   "source": [
    "# get index of predicted dog breed for each image in test set\n",
    "dog_breed_predictions = [np.argmax(model.predict(np.expand_dims(tensor, axis=0))) for tensor in test_tensors]\n",
    "\n",
    "# report test accuracy\n",
    "test_accuracy = 100*np.sum(np.array(dog_breed_predictions)==np.argmax(test_targets, axis=1))/len(dog_breed_predictions)\n",
    "print('Test accuracy: %.4f%%' % test_accuracy)\n",
    "\n",
    "# Without data augmentation : Test accuracy: 15.6699%\n",
    "# With data augmentation : Test accuracy: 25.2392%"
   ]
  },
  {
   "cell_type": "markdown",
   "metadata": {
    "deletable": true,
    "editable": true
   },
   "source": [
    "---\n",
    "<a id='step4'></a>\n",
    "## Step 4: Use a CNN to Classify Dog Breeds\n",
    "\n",
    "To reduce training time without sacrificing accuracy, we show you how to train a CNN using transfer learning.  In the following step, you will get a chance to use transfer learning to train your own CNN.\n",
    "\n",
    "### Obtain Bottleneck Features"
   ]
  },
  {
   "cell_type": "code",
   "execution_count": 172,
   "metadata": {
    "collapsed": true,
    "deletable": true,
    "editable": true
   },
   "outputs": [],
   "source": [
    "bottleneck_features = np.load('/bottleneck_features/DogVGG16Data.npz')\n",
    "train_VGG16 = bottleneck_features['train']\n",
    "valid_VGG16 = bottleneck_features['valid']\n",
    "test_VGG16 = bottleneck_features['test']"
   ]
  },
  {
   "cell_type": "markdown",
   "metadata": {
    "deletable": true,
    "editable": true
   },
   "source": [
    "### Model Architecture\n",
    "\n",
    "The model uses the the pre-trained VGG-16 model as a fixed feature extractor, where the last convolutional output of VGG-16 is fed as input to our model.  We only add a global average pooling layer and a fully connected layer, where the latter contains one node for each dog category and is equipped with a softmax."
   ]
  },
  {
   "cell_type": "code",
   "execution_count": 173,
   "metadata": {
    "collapsed": false,
    "deletable": true,
    "editable": true
   },
   "outputs": [
    {
     "name": "stdout",
     "output_type": "stream",
     "text": [
      "_________________________________________________________________\n",
      "Layer (type)                 Output Shape              Param #   \n",
      "=================================================================\n",
      "global_average_pooling2d_42  (None, 512)               0         \n",
      "_________________________________________________________________\n",
      "dense_86 (Dense)             (None, 133)               68229     \n",
      "=================================================================\n",
      "Total params: 68,229\n",
      "Trainable params: 68,229\n",
      "Non-trainable params: 0\n",
      "_________________________________________________________________\n"
     ]
    }
   ],
   "source": [
    "VGG16_model = Sequential()\n",
    "VGG16_model.add(GlobalAveragePooling2D(input_shape=train_VGG16.shape[1:]))\n",
    "VGG16_model.add(Dense(133, activation='softmax'))\n",
    "\n",
    "VGG16_model.summary()"
   ]
  },
  {
   "cell_type": "markdown",
   "metadata": {
    "deletable": true,
    "editable": true
   },
   "source": [
    "### Compile the Model"
   ]
  },
  {
   "cell_type": "code",
   "execution_count": 174,
   "metadata": {
    "collapsed": true,
    "deletable": true,
    "editable": true
   },
   "outputs": [],
   "source": [
    "VGG16_model.compile(loss='categorical_crossentropy', optimizer='rmsprop', metrics=['accuracy'])"
   ]
  },
  {
   "cell_type": "markdown",
   "metadata": {
    "deletable": true,
    "editable": true
   },
   "source": [
    "### Train the Model"
   ]
  },
  {
   "cell_type": "code",
   "execution_count": 175,
   "metadata": {
    "collapsed": false,
    "deletable": true,
    "editable": true
   },
   "outputs": [
    {
     "name": "stdout",
     "output_type": "stream",
     "text": [
      "Train on 6680 samples, validate on 835 samples\n",
      "Epoch 1/20\n",
      "6660/6680 [============================>.] - ETA: 0s - loss: 11.6599 - acc: 0.1416Epoch 00000: val_loss improved from inf to 10.12437, saving model to saved_models/weights.best.VGG16.hdf5\n",
      "6680/6680 [==============================] - 6s - loss: 11.6624 - acc: 0.1415 - val_loss: 10.1244 - val_acc: 0.2419\n",
      "Epoch 2/20\n",
      "6520/6680 [============================>.] - ETA: 0s - loss: 9.3483 - acc: 0.3184Epoch 00001: val_loss improved from 10.12437 to 9.40153, saving model to saved_models/weights.best.VGG16.hdf5\n",
      "6680/6680 [==============================] - 1s - loss: 9.3433 - acc: 0.3183 - val_loss: 9.4015 - val_acc: 0.3174\n",
      "Epoch 3/20\n",
      "6560/6680 [============================>.] - ETA: 0s - loss: 8.8310 - acc: 0.3808Epoch 00002: val_loss improved from 9.40153 to 9.04550, saving model to saved_models/weights.best.VGG16.hdf5\n",
      "6680/6680 [==============================] - 1s - loss: 8.7992 - acc: 0.3831 - val_loss: 9.0455 - val_acc: 0.3545\n",
      "Epoch 4/20\n",
      "6580/6680 [============================>.] - ETA: 0s - loss: 8.4761 - acc: 0.4161Epoch 00003: val_loss improved from 9.04550 to 9.04056, saving model to saved_models/weights.best.VGG16.hdf5\n",
      "6680/6680 [==============================] - 1s - loss: 8.4857 - acc: 0.4160 - val_loss: 9.0406 - val_acc: 0.3401\n",
      "Epoch 5/20\n",
      "6480/6680 [============================>.] - ETA: 0s - loss: 8.2337 - acc: 0.4458Epoch 00004: val_loss improved from 9.04056 to 8.94963, saving model to saved_models/weights.best.VGG16.hdf5\n",
      "6680/6680 [==============================] - 1s - loss: 8.2148 - acc: 0.4470 - val_loss: 8.9496 - val_acc: 0.3581\n",
      "Epoch 6/20\n",
      "6460/6680 [============================>.] - ETA: 0s - loss: 8.0873 - acc: 0.4656Epoch 00005: val_loss improved from 8.94963 to 8.68288, saving model to saved_models/weights.best.VGG16.hdf5\n",
      "6680/6680 [==============================] - 1s - loss: 8.0950 - acc: 0.4651 - val_loss: 8.6829 - val_acc: 0.3856\n",
      "Epoch 7/20\n",
      "6500/6680 [============================>.] - ETA: 0s - loss: 7.9695 - acc: 0.4763Epoch 00006: val_loss improved from 8.68288 to 8.63763, saving model to saved_models/weights.best.VGG16.hdf5\n",
      "6680/6680 [==============================] - 1s - loss: 7.9499 - acc: 0.4774 - val_loss: 8.6376 - val_acc: 0.3737\n",
      "Epoch 8/20\n",
      "6600/6680 [============================>.] - ETA: 0s - loss: 7.7873 - acc: 0.4924Epoch 00007: val_loss improved from 8.63763 to 8.45357, saving model to saved_models/weights.best.VGG16.hdf5\n",
      "6680/6680 [==============================] - 1s - loss: 7.7815 - acc: 0.4927 - val_loss: 8.4536 - val_acc: 0.4000\n",
      "Epoch 9/20\n",
      "6480/6680 [============================>.] - ETA: 0s - loss: 7.6999 - acc: 0.4991Epoch 00008: val_loss did not improve\n",
      "6680/6680 [==============================] - 1s - loss: 7.6923 - acc: 0.4999 - val_loss: 8.5096 - val_acc: 0.3940\n",
      "Epoch 10/20\n",
      "6640/6680 [============================>.] - ETA: 0s - loss: 7.6249 - acc: 0.5108Epoch 00009: val_loss improved from 8.45357 to 8.41009, saving model to saved_models/weights.best.VGG16.hdf5\n",
      "6680/6680 [==============================] - 1s - loss: 7.6277 - acc: 0.5106 - val_loss: 8.4101 - val_acc: 0.3976\n",
      "Epoch 11/20\n",
      "6600/6680 [============================>.] - ETA: 0s - loss: 7.3858 - acc: 0.5173Epoch 00010: val_loss improved from 8.41009 to 8.04442, saving model to saved_models/weights.best.VGG16.hdf5\n",
      "6680/6680 [==============================] - 1s - loss: 7.3822 - acc: 0.5177 - val_loss: 8.0444 - val_acc: 0.4251\n",
      "Epoch 12/20\n",
      "6500/6680 [============================>.] - ETA: 0s - loss: 7.1453 - acc: 0.5378Epoch 00011: val_loss did not improve\n",
      "6680/6680 [==============================] - 1s - loss: 7.1700 - acc: 0.5365 - val_loss: 8.0944 - val_acc: 0.4180\n",
      "Epoch 13/20\n",
      "6500/6680 [============================>.] - ETA: 0s - loss: 7.0402 - acc: 0.5482Epoch 00012: val_loss improved from 8.04442 to 7.89101, saving model to saved_models/weights.best.VGG16.hdf5\n",
      "6680/6680 [==============================] - 1s - loss: 7.0512 - acc: 0.5476 - val_loss: 7.8910 - val_acc: 0.4275\n",
      "Epoch 14/20\n",
      "6520/6680 [============================>.] - ETA: 0s - loss: 6.9477 - acc: 0.5523Epoch 00013: val_loss improved from 7.89101 to 7.78389, saving model to saved_models/weights.best.VGG16.hdf5\n",
      "6680/6680 [==============================] - 1s - loss: 6.9381 - acc: 0.5525 - val_loss: 7.7839 - val_acc: 0.4251\n",
      "Epoch 15/20\n",
      "6540/6680 [============================>.] - ETA: 0s - loss: 6.8507 - acc: 0.5609Epoch 00014: val_loss improved from 7.78389 to 7.76860, saving model to saved_models/weights.best.VGG16.hdf5\n",
      "6680/6680 [==============================] - 1s - loss: 6.8471 - acc: 0.5608 - val_loss: 7.7686 - val_acc: 0.4216\n",
      "Epoch 16/20\n",
      "6500/6680 [============================>.] - ETA: 0s - loss: 6.6327 - acc: 0.5735Epoch 00015: val_loss improved from 7.76860 to 7.56363, saving model to saved_models/weights.best.VGG16.hdf5\n",
      "6680/6680 [==============================] - 1s - loss: 6.6584 - acc: 0.5722 - val_loss: 7.5636 - val_acc: 0.4419\n",
      "Epoch 17/20\n",
      "6660/6680 [============================>.] - ETA: 0s - loss: 6.5442 - acc: 0.5754Epoch 00016: val_loss improved from 7.56363 to 7.49316, saving model to saved_models/weights.best.VGG16.hdf5\n",
      "6680/6680 [==============================] - 1s - loss: 6.5366 - acc: 0.5759 - val_loss: 7.4932 - val_acc: 0.4491\n",
      "Epoch 18/20\n",
      "6540/6680 [============================>.] - ETA: 0s - loss: 6.4228 - acc: 0.5862Epoch 00017: val_loss improved from 7.49316 to 7.36455, saving model to saved_models/weights.best.VGG16.hdf5\n",
      "6680/6680 [==============================] - 1s - loss: 6.4055 - acc: 0.5868 - val_loss: 7.3645 - val_acc: 0.4407\n",
      "Epoch 19/20\n",
      "6480/6680 [============================>.] - ETA: 0s - loss: 6.3368 - acc: 0.5937Epoch 00018: val_loss improved from 7.36455 to 7.28234, saving model to saved_models/weights.best.VGG16.hdf5\n",
      "6680/6680 [==============================] - 1s - loss: 6.3266 - acc: 0.5942 - val_loss: 7.2823 - val_acc: 0.4599\n",
      "Epoch 20/20\n",
      "6540/6680 [============================>.] - ETA: 0s - loss: 6.2999 - acc: 0.6015Epoch 00019: val_loss did not improve\n",
      "6680/6680 [==============================] - 1s - loss: 6.2999 - acc: 0.6012 - val_loss: 7.2922 - val_acc: 0.4587\n"
     ]
    },
    {
     "data": {
      "text/plain": [
       "<keras.callbacks.History at 0x7fa48b04eb38>"
      ]
     },
     "execution_count": 175,
     "metadata": {},
     "output_type": "execute_result"
    }
   ],
   "source": [
    "checkpointer = ModelCheckpoint(filepath='saved_models/weights.best.VGG16.hdf5', \n",
    "                               verbose=1, save_best_only=True)\n",
    "\n",
    "VGG16_model.fit(train_VGG16, train_targets, \n",
    "          validation_data=(valid_VGG16, valid_targets),\n",
    "          epochs=20, batch_size=20, callbacks=[checkpointer], verbose=1)"
   ]
  },
  {
   "cell_type": "markdown",
   "metadata": {
    "deletable": true,
    "editable": true
   },
   "source": [
    "### Load the Model with the Best Validation Loss"
   ]
  },
  {
   "cell_type": "code",
   "execution_count": 176,
   "metadata": {
    "collapsed": true,
    "deletable": true,
    "editable": true
   },
   "outputs": [],
   "source": [
    "VGG16_model.load_weights('saved_models/weights.best.VGG16.hdf5')"
   ]
  },
  {
   "cell_type": "markdown",
   "metadata": {
    "deletable": true,
    "editable": true
   },
   "source": [
    "### Test the Model\n",
    "\n",
    "Now, we can use the CNN to test how well it identifies breed within our test dataset of dog images.  We print the test accuracy below."
   ]
  },
  {
   "cell_type": "code",
   "execution_count": 177,
   "metadata": {
    "collapsed": false,
    "deletable": true,
    "editable": true
   },
   "outputs": [
    {
     "name": "stdout",
     "output_type": "stream",
     "text": [
      "Test accuracy: 47.2488%\n"
     ]
    }
   ],
   "source": [
    "# get index of predicted dog breed for each image in test set\n",
    "VGG16_predictions = [np.argmax(VGG16_model.predict(np.expand_dims(feature, axis=0))) for feature in test_VGG16]\n",
    "\n",
    "# report test accuracy\n",
    "test_accuracy = 100*np.sum(np.array(VGG16_predictions)==np.argmax(test_targets, axis=1))/len(VGG16_predictions)\n",
    "print('Test accuracy: %.4f%%' % test_accuracy)"
   ]
  },
  {
   "cell_type": "markdown",
   "metadata": {
    "deletable": true,
    "editable": true
   },
   "source": [
    "### Predict Dog Breed with the Model"
   ]
  },
  {
   "cell_type": "code",
   "execution_count": 178,
   "metadata": {
    "collapsed": true,
    "deletable": true,
    "editable": true
   },
   "outputs": [],
   "source": [
    "from extract_bottleneck_features import *\n",
    "\n",
    "def VGG16_predict_breed(img_path):\n",
    "    # extract bottleneck features\n",
    "    bottleneck_feature = extract_VGG16(path_to_tensor(img_path))\n",
    "    # obtain predicted vector\n",
    "    predicted_vector = VGG16_model.predict(bottleneck_feature)\n",
    "    # return dog breed that is predicted by the model\n",
    "    return dog_names[np.argmax(predicted_vector)]"
   ]
  },
  {
   "cell_type": "markdown",
   "metadata": {
    "deletable": true,
    "editable": true
   },
   "source": [
    "---\n",
    "<a id='step5'></a>\n",
    "## Step 5: Create a CNN to Classify Dog Breeds (using Transfer Learning)\n",
    "\n",
    "You will now use transfer learning to create a CNN that can identify dog breed from images.  Your CNN must attain at least 60% accuracy on the test set.\n",
    "\n",
    "In Step 4, we used transfer learning to create a CNN using VGG-16 bottleneck features.  In this section, you must use the bottleneck features from a different pre-trained model.  To make things easier for you, we have pre-computed the features for all of the networks that are currently available in Keras:\n",
    "- [VGG-19](https://s3-us-west-1.amazonaws.com/udacity-aind/dog-project/DogVGG19Data.npz) bottleneck features\n",
    "- [ResNet-50](https://s3-us-west-1.amazonaws.com/udacity-aind/dog-project/DogResnet50Data.npz) bottleneck features\n",
    "- [Inception](https://s3-us-west-1.amazonaws.com/udacity-aind/dog-project/DogInceptionV3Data.npz) bottleneck features\n",
    "- [Xception](https://s3-us-west-1.amazonaws.com/udacity-aind/dog-project/DogXceptionData.npz) bottleneck features\n",
    "\n",
    "The files are encoded as such:\n",
    "\n",
    "    Dog{network}Data.npz\n",
    "    \n",
    "where `{network}`, in the above filename, can be one of `VGG19`, `Resnet50`, `InceptionV3`, or `Xception`.  Pick one of the above architectures, download the corresponding bottleneck features, and store the downloaded file in the `bottleneck_features/` folder in the repository.\n",
    "\n",
    "### (IMPLEMENTATION) Obtain Bottleneck Features\n",
    "\n",
    "In the code block below, extract the bottleneck features corresponding to the train, test, and validation sets by running the following:\n",
    "\n",
    "    bottleneck_features = np.load('bottleneck_features/Dog{network}Data.npz')\n",
    "    train_{network} = bottleneck_features['train']\n",
    "    valid_{network} = bottleneck_features['valid']\n",
    "    test_{network} = bottleneck_features['test']"
   ]
  },
  {
   "cell_type": "code",
   "execution_count": 346,
   "metadata": {
    "collapsed": false,
    "deletable": true,
    "editable": true
   },
   "outputs": [
    {
     "name": "stdout",
     "output_type": "stream",
     "text": [
      "(6680, 1, 1, 2048)\n",
      "(1, 1, 2048)\n"
     ]
    }
   ],
   "source": [
    "### TODO: Obtain bottleneck features from another pre-trained CNN.\n",
    "\n",
    "bottleneck_features = np.load('/bottleneck_features/DogResnet50Data.npz')\n",
    "\n",
    "train_Resnet50 = bottleneck_features['train']\n",
    "valid_Resnet50 = bottleneck_features['valid']\n",
    "test_Resnet50 = bottleneck_features['test']\n",
    "\n",
    "print(train_Resnet50.shape) # 6680 samples 1x1x2048  |----- . \n",
    "print(train_Resnet50.shape[1:])"
   ]
  },
  {
   "cell_type": "markdown",
   "metadata": {
    "deletable": true,
    "editable": true
   },
   "source": [
    "### (IMPLEMENTATION) Model Architecture\n",
    "\n",
    "Create a CNN to classify dog breed.  At the end of your code cell block, summarize the layers of your model by executing the line:\n",
    "    \n",
    "        <your model's name>.summary()\n",
    "   \n",
    "__Question 5:__ Outline the steps you took to get to your final CNN architecture and your reasoning at each step.  Describe why you think the architecture is suitable for the current problem.\n",
    "\n",
    "__Answer:__ \n",
    "\n",
    "A default implementation with a GlobalAveragePooling2D() layer + Dense() layers, have been implemented as a starter architecture for VGG19, InceptionV3 and ResNet-50, obtaining the best loss value ~0.66 with 20 epochs for InceptionV3, and accuracy of 78% -the accuracy of ResNet-50 was observed as a bit higher than 81% and VGG19 was around 50%-. InceptionV3 was chosen for the loss convergence speed and the resulting accuracy values. Right after, it has been proceeded to add more complexity to the model. Since we are working with Keras bottleneck features, that means that we are working with the last activation maps before the fully-connected layers, thus we need to add the fully connected layers. An additional Dense() layer to the last outputs Dense() layer, have been tried, getting a 1% more of accuracy, probably for this case it is not really worthy to add such complexity. However, best results have been achieved only tuning the learning rate (more than 3% increase on the final accuracy and a better performance of loss). A clear balance has been found around lr = 0.0001. \n",
    "\n",
    "After tuning and optimizing the performance of the pre-trained model InceptionV3, some tests with custom dog images were run. Although the accuracy of the network was correct, the results thrown were a bit poor. The custom images used to run the tests, were specially challenging because they were not purebreed dogs, nevertheless it was expected the most resembling breed for each of them. However in some cases, the result shown was more close to a wild guess rather than a calculated response. Bearing this in mind, a ResNet-50 pre-trained network was tried again, properly tuned -here it was observed a better performance if the learning is not specified-, and tested with the same pictures, more better results were obtained.  \n",
    "\n",
    "##### Testing InceptionV3 vs ResNet-50\n",
    "\n",
    "\n",
    "|DogFileName|      InceptionV3        |         ResNet-50        |    Winner     |     Observations  |\n",
    "|-----:-----|------------:------------|-------------:------------|--------:------|---------:---------|\n",
    "|Tami       |   Dachsund              | Chesapeak bay retriever  |   ResNet-50   | Poor color balance|\n",
    "|Bolita     |   Parson Russel terrier | American skimo dog       |   ResNet-50   |  Clear shot       |\n",
    "|Alaya      |   Beauceron             | Great Dane               |   ResNet-50   | Overexposed pic   |\n",
    "|Colega     |   Miniature Schnauzer   | Miniature Schnauzer      |    Both       |  Clear shot       |\n",
    "|Fortu      |   Nova Scotia Duck Retr | American foxhound        |   ResNet-50   |  Clear shot       |  \n",
    "|Fulla      |   Smooth fox terrier    | Cairn terrier            |   ResNet-50   | 2 dogs in one shot|\n",
    "|Lita       |   Parson Russel terrier | Bull terrier             |   InceptionV3 | 2 dogs in one shot|\n",
    "\n",
    "The main conclusion extracted from this little experiment is that probably Data Augmentation would enhance the perfomance and more accuracy would be expected, specially because very often we do not usually work with nice balanced and clear shots. Furthermore, this network has not been trained with a large dataset, so the results are not really that bad considering the challenge of the image proposed. \n",
    "\n"
   ]
  },
  {
   "cell_type": "code",
   "execution_count": 385,
   "metadata": {
    "collapsed": false,
    "deletable": true,
    "editable": true
   },
   "outputs": [
    {
     "name": "stdout",
     "output_type": "stream",
     "text": [
      "_________________________________________________________________\n",
      "Layer (type)                 Output Shape              Param #   \n",
      "=================================================================\n",
      "global_average_pooling2d_78  (None, 2048)              0         \n",
      "_________________________________________________________________\n",
      "dropout_209 (Dropout)        (None, 2048)              0         \n",
      "_________________________________________________________________\n",
      "dense_134 (Dense)            (None, 133)               272517    \n",
      "=================================================================\n",
      "Total params: 272,517\n",
      "Trainable params: 272,517\n",
      "Non-trainable params: 0\n",
      "_________________________________________________________________\n"
     ]
    }
   ],
   "source": [
    "### TODO: Define your architecture.\n",
    "\n",
    "Resnet50_model = Sequential()\n",
    "Resnet50_model.add(GlobalAveragePooling2D(input_shape=train_Resnet50.shape[1:]))\n",
    "Resnet50_model.add(Dropout(0.2))\n",
    "Resnet50_model.add(Dense(133, activation=\"softmax\")) # bottleneck are last activations maps before fully connected\n",
    "Resnet50_model.summary()"
   ]
  },
  {
   "cell_type": "markdown",
   "metadata": {
    "deletable": true,
    "editable": true
   },
   "source": [
    "### (IMPLEMENTATION) Compile the Model"
   ]
  },
  {
   "cell_type": "code",
   "execution_count": 386,
   "metadata": {
    "collapsed": true,
    "deletable": true,
    "editable": true
   },
   "outputs": [],
   "source": [
    "### TODO: Compile the model.\n",
    "\n",
    "# rmsprop = optimizers.RMSprop(lr=0.0001) # lower values of rho decreases the speed of the training\n",
    "Resnet50_model.compile(optimizer= 'rmsprop', loss='categorical_crossentropy', metrics=['accuracy'])"
   ]
  },
  {
   "cell_type": "markdown",
   "metadata": {
    "deletable": true,
    "editable": true
   },
   "source": [
    "### (IMPLEMENTATION) Train the Model\n",
    "\n",
    "Train your model in the code cell below.  Use model checkpointing to save the model that attains the best validation loss.  \n",
    "\n",
    "You are welcome to [augment the training data](https://blog.keras.io/building-powerful-image-classification-models-using-very-little-data.html), but this is not a requirement. "
   ]
  },
  {
   "cell_type": "code",
   "execution_count": 387,
   "metadata": {
    "collapsed": false,
    "deletable": true,
    "editable": true
   },
   "outputs": [
    {
     "name": "stdout",
     "output_type": "stream",
     "text": [
      "Train on 6680 samples, validate on 835 samples\n",
      "Epoch 1/15\n",
      "6640/6680 [============================>.] - ETA: 0s - loss: 1.8174 - acc: 0.5532Epoch 00000: val_loss improved from inf to 0.85287, saving model to saved_models/weights.best.Resnet50.hdf5\n",
      "6680/6680 [==============================] - 26s - loss: 1.8108 - acc: 0.5542 - val_loss: 0.8529 - val_acc: 0.7353\n",
      "Epoch 2/15\n",
      "6600/6680 [============================>.] - ETA: 0s - loss: 0.5252 - acc: 0.8342Epoch 00001: val_loss improved from 0.85287 to 0.71227, saving model to saved_models/weights.best.Resnet50.hdf5\n",
      "6680/6680 [==============================] - 3s - loss: 0.5263 - acc: 0.8334 - val_loss: 0.7123 - val_acc: 0.7725\n",
      "Epoch 3/15\n",
      "6600/6680 [============================>.] - ETA: 0s - loss: 0.3516 - acc: 0.8894Epoch 00002: val_loss did not improve\n",
      "6680/6680 [==============================] - 3s - loss: 0.3508 - acc: 0.8895 - val_loss: 0.7229 - val_acc: 0.7868\n",
      "Epoch 4/15\n",
      "6560/6680 [============================>.] - ETA: 0s - loss: 0.2606 - acc: 0.9180Epoch 00003: val_loss did not improve\n",
      "6680/6680 [==============================] - 3s - loss: 0.2605 - acc: 0.9177 - val_loss: 0.7232 - val_acc: 0.7904\n",
      "Epoch 5/15\n",
      "6620/6680 [============================>.] - ETA: 0s - loss: 0.2015 - acc: 0.9358Epoch 00004: val_loss improved from 0.71227 to 0.68304, saving model to saved_models/weights.best.Resnet50.hdf5\n",
      "6680/6680 [==============================] - 3s - loss: 0.2018 - acc: 0.9356 - val_loss: 0.6830 - val_acc: 0.8036\n",
      "Epoch 6/15\n",
      "6560/6680 [============================>.] - ETA: 0s - loss: 0.1554 - acc: 0.9506Epoch 00005: val_loss improved from 0.68304 to 0.67465, saving model to saved_models/weights.best.Resnet50.hdf5\n",
      "6680/6680 [==============================] - 3s - loss: 0.1576 - acc: 0.9506 - val_loss: 0.6746 - val_acc: 0.8084\n",
      "Epoch 7/15\n",
      "6600/6680 [============================>.] - ETA: 0s - loss: 0.1353 - acc: 0.9580Epoch 00006: val_loss did not improve\n",
      "6680/6680 [==============================] - 3s - loss: 0.1363 - acc: 0.9579 - val_loss: 0.6893 - val_acc: 0.8108\n",
      "Epoch 8/15\n",
      "6580/6680 [============================>.] - ETA: 0s - loss: 0.1160 - acc: 0.9638Epoch 00007: val_loss did not improve\n",
      "6680/6680 [==============================] - 3s - loss: 0.1162 - acc: 0.9638 - val_loss: 0.7212 - val_acc: 0.8108\n",
      "Epoch 9/15\n",
      "6600/6680 [============================>.] - ETA: 0s - loss: 0.0975 - acc: 0.9685Epoch 00008: val_loss did not improve\n",
      "6680/6680 [==============================] - 3s - loss: 0.0968 - acc: 0.9687 - val_loss: 0.7139 - val_acc: 0.8192\n",
      "Epoch 10/15\n",
      "6620/6680 [============================>.] - ETA: 0s - loss: 0.0777 - acc: 0.9757Epoch 00009: val_loss did not improve\n",
      "6680/6680 [==============================] - 3s - loss: 0.0777 - acc: 0.9757 - val_loss: 0.7129 - val_acc: 0.8144\n",
      "Epoch 11/15\n",
      "6560/6680 [============================>.] - ETA: 0s - loss: 0.0747 - acc: 0.9771Epoch 00010: val_loss did not improve\n",
      "6680/6680 [==============================] - 2s - loss: 0.0744 - acc: 0.9771 - val_loss: 0.7206 - val_acc: 0.8323\n",
      "Epoch 12/15\n",
      "6560/6680 [============================>.] - ETA: 0s - loss: 0.0629 - acc: 0.9802Epoch 00011: val_loss did not improve\n",
      "6680/6680 [==============================] - 2s - loss: 0.0627 - acc: 0.9801 - val_loss: 0.7409 - val_acc: 0.8251\n",
      "Epoch 13/15\n",
      "6600/6680 [============================>.] - ETA: 0s - loss: 0.0527 - acc: 0.9835Epoch 00012: val_loss did not improve\n",
      "6680/6680 [==============================] - 3s - loss: 0.0527 - acc: 0.9834 - val_loss: 0.8072 - val_acc: 0.8060\n",
      "Epoch 14/15\n",
      "6660/6680 [============================>.] - ETA: 0s - loss: 0.0504 - acc: 0.9862Epoch 00013: val_loss did not improve\n",
      "6680/6680 [==============================] - 3s - loss: 0.0503 - acc: 0.9862 - val_loss: 0.7884 - val_acc: 0.8192\n",
      "Epoch 15/15\n",
      "6600/6680 [============================>.] - ETA: 0s - loss: 0.0437 - acc: 0.9862Epoch 00014: val_loss did not improve\n",
      "6680/6680 [==============================] - 2s - loss: 0.0436 - acc: 0.9862 - val_loss: 0.7767 - val_acc: 0.8263\n"
     ]
    },
    {
     "data": {
      "text/plain": [
       "<keras.callbacks.History at 0x7fa38b511e80>"
      ]
     },
     "execution_count": 387,
     "metadata": {},
     "output_type": "execute_result"
    }
   ],
   "source": [
    "### TODO: Train the model.\n",
    "\n",
    "Resnet50_checkpointer = ModelCheckpoint(filepath='saved_models/weights.best.Resnet50.hdf5',\n",
    "                               verbose=1, save_best_only=True)\n",
    "\n",
    "Resnet50_model.fit(train_Resnet50, train_targets, \n",
    "          validation_data=(valid_Resnet50, valid_targets),\n",
    "          epochs=15, batch_size=20, callbacks=[Resnet50_checkpointer], verbose=1)"
   ]
  },
  {
   "cell_type": "markdown",
   "metadata": {
    "deletable": true,
    "editable": true
   },
   "source": [
    "### (IMPLEMENTATION) Load the Model with the Best Validation Loss"
   ]
  },
  {
   "cell_type": "code",
   "execution_count": 388,
   "metadata": {
    "collapsed": true,
    "deletable": true,
    "editable": true
   },
   "outputs": [],
   "source": [
    "### TODO: Load the model weights with the best validation loss.\n",
    "\n",
    "Resnet50_model.load_weights('saved_models/weights.best.Resnet50.hdf5')"
   ]
  },
  {
   "cell_type": "markdown",
   "metadata": {
    "deletable": true,
    "editable": true
   },
   "source": [
    "### (IMPLEMENTATION) Test the Model\n",
    "\n",
    "Try out your model on the test dataset of dog images. Ensure that your test accuracy is greater than 60%."
   ]
  },
  {
   "cell_type": "code",
   "execution_count": 389,
   "metadata": {
    "collapsed": false,
    "deletable": true,
    "editable": true
   },
   "outputs": [
    {
     "name": "stdout",
     "output_type": "stream",
     "text": [
      "Test accuracy: 81.5789%\n"
     ]
    }
   ],
   "source": [
    "### TODO: Calculate classification accuracy on the test dataset.\n",
    "\n",
    "# get index of predicted dog breed for each image in test set\n",
    "Resnet50_predictions = [np.argmax(Resnet50_model.predict(np.expand_dims(feature, axis=0))) for feature in test_Resnet50]\n",
    "\n",
    "# test accuracy\n",
    "test_accuracy = 100*np.sum(np.array(Resnet50_predictions)==np.argmax(test_targets, axis=1))/len(Resnet50_predictions)\n",
    "print('Test accuracy: %.4f%%' % test_accuracy)"
   ]
  },
  {
   "cell_type": "markdown",
   "metadata": {
    "deletable": true,
    "editable": true
   },
   "source": [
    "### (IMPLEMENTATION) Predict Dog Breed with the Model\n",
    "\n",
    "Write a function that takes an image path as input and returns the dog breed (`Affenpinscher`, `Afghan_hound`, etc) that is predicted by your model.  \n",
    "\n",
    "Similar to the analogous function in Step 5, your function should have three steps:\n",
    "1. Extract the bottleneck features corresponding to the chosen CNN model.\n",
    "2. Supply the bottleneck features as input to the model to return the predicted vector.  Note that the argmax of this prediction vector gives the index of the predicted dog breed.\n",
    "3. Use the `dog_names` array defined in Step 0 of this notebook to return the corresponding breed.\n",
    "\n",
    "The functions to extract the bottleneck features can be found in `extract_bottleneck_features.py`, and they have been imported in an earlier code cell.  To obtain the bottleneck features corresponding to your chosen CNN architecture, you need to use the function\n",
    "\n",
    "    extract_{network}\n",
    "    \n",
    "where `{network}`, in the above filename, should be one of `VGG19`, `Resnet50`, `InceptionV3`, or `Xception`."
   ]
  },
  {
   "cell_type": "code",
   "execution_count": 390,
   "metadata": {
    "collapsed": true,
    "deletable": true,
    "editable": true
   },
   "outputs": [],
   "source": [
    "### TODO: Write a function that takes a path to an image as input\n",
    "### and returns the dog breed that is predicted by the model.\n",
    "\n",
    "from extract_bottleneck_features import *\n",
    "\n",
    "\n",
    "def Resnet50_predict_breed(img_path):\n",
    "    # extract bottleneck features\n",
    "    bottleneck_feature = extract_Resnet50(path_to_tensor(img_path))\n",
    "    # obtain predicted vector\n",
    "    predicted_vector = Resnet50_model.predict(bottleneck_feature)\n",
    "    # return dog breed that is predicted by the model\n",
    "    return dog_names[np.argmax(predicted_vector)]"
   ]
  },
  {
   "cell_type": "code",
   "execution_count": null,
   "metadata": {
    "collapsed": true,
    "deletable": true,
    "editable": true
   },
   "outputs": [],
   "source": [
    "dog_breed = [Resnet50_predict_breed(dog_image) for dog_image in sorted(glob(\"test_dogs/*\"))]\n",
    "dog_breed "
   ]
  },
  {
   "cell_type": "markdown",
   "metadata": {
    "deletable": true,
    "editable": true
   },
   "source": [
    "---\n",
    "<a id='step6'></a>\n",
    "## Step 6: Write your Algorithm\n",
    "\n",
    "Write an algorithm that accepts a file path to an image and first determines whether the image contains a human, dog, or neither.  Then,\n",
    "- if a __dog__ is detected in the image, return the predicted breed.\n",
    "- if a __human__ is detected in the image, return the resembling dog breed.\n",
    "- if __neither__ is detected in the image, provide output that indicates an error.\n",
    "\n",
    "You are welcome to write your own functions for detecting humans and dogs in images, but feel free to use the `face_detector` and `dog_detector` functions developed above.  You are __required__ to use your CNN from Step 5 to predict dog breed.  \n",
    "\n",
    "Some sample output for our algorithm is provided below, but feel free to design your own user experience!\n",
    "\n",
    "![Sample Human Output](images/sample_human_output.png)\n",
    "\n",
    "\n",
    "### (IMPLEMENTATION) Write your Algorithm"
   ]
  },
  {
   "cell_type": "code",
   "execution_count": null,
   "metadata": {
    "collapsed": true,
    "deletable": true,
    "editable": true
   },
   "outputs": [],
   "source": [
    "### TODO: Write your algorithm.\n",
    "### Feel free to use as many code cells as needed.\n",
    "\n",
    "def check_human_face(img_path): \n",
    "    "
   ]
  },
  {
   "cell_type": "markdown",
   "metadata": {
    "deletable": true,
    "editable": true
   },
   "source": [
    "---\n",
    "<a id='step7'></a>\n",
    "## Step 7: Test Your Algorithm\n",
    "\n",
    "In this section, you will take your new algorithm for a spin!  What kind of dog does the algorithm think that __you__ look like?  If you have a dog, does it predict your dog's breed accurately?  If you have a cat, does it mistakenly think that your cat is a dog?\n",
    "\n",
    "### (IMPLEMENTATION) Test Your Algorithm on Sample Images!\n",
    "\n",
    "Test your algorithm at least six images on your computer.  Feel free to use any images you like.  Use at least two human and two dog images.  \n",
    "\n",
    "__Question 6:__ Is the output better than you expected :) ?  Or worse :( ?  Provide at least three possible points of improvement for your algorithm.\n",
    "\n",
    "__Answer:__ "
   ]
  },
  {
   "cell_type": "code",
   "execution_count": null,
   "metadata": {
    "collapsed": true,
    "deletable": true,
    "editable": true
   },
   "outputs": [],
   "source": [
    "## TODO: Execute your algorithm from Step 6 on\n",
    "## at least 6 images on your computer.\n",
    "## Feel free to use as many code cells as needed."
   ]
  }
 ],
 "metadata": {
  "anaconda-cloud": {},
  "kernelspec": {
   "display_name": "Python 3",
   "language": "python",
   "name": "python3"
  },
  "language_info": {
   "codemirror_mode": {
    "name": "ipython",
    "version": 3
   },
   "file_extension": ".py",
   "mimetype": "text/x-python",
   "name": "python",
   "nbconvert_exporter": "python",
   "pygments_lexer": "ipython3",
   "version": "3.5.3"
  }
 },
 "nbformat": 4,
 "nbformat_minor": 1
}
